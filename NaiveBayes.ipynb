{
 "cells": [
  {
   "cell_type": "markdown",
   "id": "b2e28d29-9d37-4d8b-937e-aabff4ca88a3",
   "metadata": {},
   "source": [
    "<h1>Algoritmo Naïve Bayes</h1>"
   ]
  },
  {
   "cell_type": "markdown",
   "id": "d4627606-403b-4d54-b7f6-4f6d9d4a1690",
   "metadata": {},
   "source": [
    "<h2>Breast Cancer</h2>"
   ]
  },
  {
   "cell_type": "markdown",
   "id": "0bfa9495-4247-4b35-a2a3-8bc6692e1d78",
   "metadata": {},
   "source": [
    "<h3>Hold-Out 70/30 estratificado</h3>"
   ]
  },
  {
   "cell_type": "code",
   "execution_count": 13,
   "id": "0bb3ac2a-2c77-43e7-a38f-044ebcb9e821",
   "metadata": {},
   "outputs": [
    {
     "name": "stdout",
     "output_type": "stream",
     "text": [
      "Matriz de Confusión:\n",
      " [[ 57   7]\n",
      " [  2 105]]\n",
      "Precisión: 0.9473684210526315\n"
     ]
    }
   ],
   "source": [
    "from sklearn.datasets import load_breast_cancer\n",
    "from sklearn.model_selection import train_test_split\n",
    "from sklearn.naive_bayes import GaussianNB\n",
    "from sklearn.metrics import accuracy_score, confusion_matrix\n",
    "\n",
    "data_cancer = load_breast_cancer() # dataset de 2 clases, es o no predispuesto a tener cancer de pecho\n",
    "X_cancer, y_cancer = data_cancer.data, data_cancer.target # se separan datos de variable objetivo\n",
    "X_cancer_train, X_cancer_test, y_cancer_train, y_cancer_test = train_test_split(X_cancer, y_cancer, test_size=0.3, stratify=y_cancer, random_state=42)\n",
    "# indica que se estratifican los datos\n",
    "\n",
    "nb_model = GaussianNB() # inicializa naive bayes gausiano\n",
    "nb_model.fit(X_cancer_train, y_cancer_train) # enrtena modelo\n",
    "y_cancer_pred_holdout = nb_model.predict(X_cancer_test) # realiza predicciones\n",
    "matriz_cancer_holdout = confusion_matrix(y_cancer_test, y_cancer_pred_holdout) # matriz de confusion\n",
    "accuracy_cancer_holdout = accuracy_score(y_cancer_test, y_cancer_pred) # precision\n",
    "\n",
    "print(\"Matriz de Confusión:\\n\", matriz_cancer_holdout)\n",
    "print(\"Precisión:\", accuracy_cancer_holdout)"
   ]
  },
  {
   "cell_type": "markdown",
   "id": "dfa2166f-b4a7-4503-b7ea-b97798327e36",
   "metadata": {},
   "source": [
    "<h3>10-Fold Cross-Validation estratificado</h3>"
   ]
  },
  {
   "cell_type": "code",
   "execution_count": 18,
   "id": "e94ad02b-2d74-4194-bc2c-7df08c2efc9c",
   "metadata": {},
   "outputs": [
    {
     "name": "stdout",
     "output_type": "stream",
     "text": [
      "Matriz de Confusión:\n",
      " [[188  24]\n",
      " [ 12 345]]\n",
      "Precisión: 0.9367311072056239\n"
     ]
    }
   ],
   "source": [
    "from sklearn.model_selection import StratifiedKFold, cross_val_predict\n",
    "\n",
    "cv = StratifiedKFold(n_splits=10, shuffle=True, random_state=42) # 10 folds estratificados\n",
    "y_cancer_pred_10fold = cross_val_predict(nb_model, X_cancer, y_cancer, cv=cv) # usa validación cruzada y devuelve predicciones de cada fold\n",
    "\n",
    "matriz_cancer_10fold = confusion_matrix(y_cancer, y_cancer_pred_10fold)\n",
    "accuracy_cancer_10fold = accuracy_score(y_cancer, y_cancer_pred_10fold)\n",
    "print(\"Matriz de Confusión:\\n\", matriz_cancer_10fold)\n",
    "print(\"Precisión:\", accuracy_cancer_10fold)"
   ]
  },
  {
   "cell_type": "markdown",
   "id": "a5af032a-5076-4f54-a6d3-b37b68d4109b",
   "metadata": {},
   "source": [
    "<h3>Leave-One-Out</h3>"
   ]
  },
  {
   "cell_type": "code",
   "execution_count": 20,
   "id": "9eba5b50-ad0a-46b9-8bf8-cbfeea8b5f32",
   "metadata": {},
   "outputs": [
    {
     "name": "stdout",
     "output_type": "stream",
     "text": [
      "Matriz de Confusión:\n",
      " [[189  23]\n",
      " [ 12 345]]\n",
      "Precisión: 0.9384885764499121\n"
     ]
    }
   ],
   "source": [
    "from sklearn.model_selection import LeaveOneOut\n",
    "\n",
    "loo = LeaveOneOut()\n",
    "y_cancer_pred_loo = cross_val_predict(nb_model, X_cancer, y_cancer, cv=loo)\n",
    "# devuelve la prediccion de cada dato usando validacion cruzada de cada dato\n",
    "\n",
    "matriz_cancer_loo = confusion_matrix(y_cancer, y_cancer_pred_loo)\n",
    "accuracy_cancer_loo = accuracy_score(y_cancer, y_cancer_pred_loo)\n",
    "print(\"Matriz de Confusión:\\n\", matriz_cancer_loo)\n",
    "print(\"Precisión:\", accuracy_cancer_loo)"
   ]
  },
  {
   "cell_type": "markdown",
   "id": "6f85a218-7ac3-40df-8f25-2ac3f6fa1352",
   "metadata": {},
   "source": [
    "<h2>Wine</h2>"
   ]
  },
  {
   "cell_type": "markdown",
   "id": "57e7fdc3-4ddc-4802-9d74-8136307e95d0",
   "metadata": {},
   "source": [
    "<h3>Hold-Out 70/30 estratificado</h3>"
   ]
  },
  {
   "cell_type": "code",
   "execution_count": 28,
   "id": "4253715f-4ed2-46c6-9456-a3ffac63abd4",
   "metadata": {},
   "outputs": [
    {
     "name": "stdout",
     "output_type": "stream",
     "text": [
      "Matriz de Confusión:\n",
      " [[18  0  0]\n",
      " [ 0 21  0]\n",
      " [ 0  0 15]]\n",
      "Precisión: 1.0\n"
     ]
    }
   ],
   "source": [
    "from sklearn.datasets import load_wine\n",
    "\n",
    "data_wine = load_wine()\n",
    "X_wine, y_wine = data_wine.data, data_wine.target\n",
    "X_wine_train, X_wine_test, y_wine_train, y_wine_test = train_test_split(X_wine, y_wine, test_size=0.3, stratify=y_wine, random_state=42)\n",
    "\n",
    "nb_model.fit(X_wine_train, y_wine_train)\n",
    "y_wine_pred_holdout = nb_model.predict(X_wine_test)\n",
    "matriz_wine_holdout = confusion_matrix(y_wine_test, y_wine_pred_holdout)\n",
    "accuracy_wine_holdout = accuracy_score(y_wine_test, y_wine_pred_holdout)\n",
    "\n",
    "print(\"Matriz de Confusión:\\n\", matriz_wine_holdout)\n",
    "print(\"Precisión:\", accuracy_wine_holdout)"
   ]
  },
  {
   "cell_type": "markdown",
   "id": "ce36f273-2f26-4271-ae7e-f4050ed4caf3",
   "metadata": {},
   "source": [
    "<h3>10-Fold Cross-Validation estratificado</h3>"
   ]
  },
  {
   "cell_type": "code",
   "execution_count": 32,
   "id": "286dcef3-a785-4b6c-90d8-5c8486f365b1",
   "metadata": {},
   "outputs": [
    {
     "name": "stdout",
     "output_type": "stream",
     "text": [
      "Matriz de Confusión:\n",
      " [[57  2  0]\n",
      " [ 0 69  2]\n",
      " [ 0  0 48]]\n",
      "Precisión: 0.9775280898876404\n"
     ]
    }
   ],
   "source": [
    "y_wine_pred_10fold = cross_val_predict(nb_model, X_wine, y_wine, cv=cv)\n",
    "\n",
    "matriz_wine_10fold = confusion_matrix(y_wine, y_wine_pred_10fold)\n",
    "accuracy_wine_10fold = accuracy_score(y_wine, y_wine_pred_10fold)\n",
    "print(\"Matriz de Confusión:\\n\", matriz_wine_10fold)\n",
    "print(\"Precisión:\", accuracy_wine_10fold)"
   ]
  },
  {
   "cell_type": "markdown",
   "id": "9fa1873e-6339-4b69-b56d-3582dbfff38a",
   "metadata": {},
   "source": [
    "<h3>Leave-One-Out</h3>"
   ]
  },
  {
   "cell_type": "code",
   "execution_count": 34,
   "id": "f7cfc953-5d7e-4439-95b5-7e5dd50dd6f1",
   "metadata": {},
   "outputs": [
    {
     "name": "stdout",
     "output_type": "stream",
     "text": [
      "Matriz de Confusión:\n",
      " [[57  2  0]\n",
      " [ 0 69  2]\n",
      " [ 0  0 48]]\n",
      "Precisión: 0.9775280898876404\n"
     ]
    }
   ],
   "source": [
    "y_wine_pred_loo = cross_val_predict(nb_model, X_wine, y_wine, cv=loo)\n",
    "\n",
    "matriz_wine_loo = confusion_matrix(y_wine, y_wine_pred_loo)\n",
    "accuracy_wine_loo = accuracy_score(y_wine, y_wine_pred_loo)\n",
    "print(\"Matriz de Confusión:\\n\", matriz_wine_loo)\n",
    "print(\"Precisión:\", accuracy_wine_loo)"
   ]
  },
  {
   "cell_type": "markdown",
   "id": "3f0e9832-5913-400f-88c0-e02f48100695",
   "metadata": {},
   "source": [
    "<h2>Iris</h2>"
   ]
  },
  {
   "cell_type": "markdown",
   "id": "73acda00-0254-4460-a26e-7a21a52d9184",
   "metadata": {},
   "source": [
    "<h3>Hold-Out 70/30 estratificado</h3>"
   ]
  },
  {
   "cell_type": "code",
   "execution_count": 36,
   "id": "7816cefe-0297-4395-be97-b8412fa9d030",
   "metadata": {},
   "outputs": [
    {
     "name": "stdout",
     "output_type": "stream",
     "text": [
      "Matriz de Confusión:\n",
      " [[15  0  0]\n",
      " [ 0 14  1]\n",
      " [ 0  3 12]]\n",
      "Precisión: 0.9111111111111111\n"
     ]
    }
   ],
   "source": [
    "from sklearn.datasets import load_iris\n",
    "\n",
    "data_iris = load_iris()\n",
    "X_iris, y_iris = data_iris.data, data_iris.target\n",
    "X_iris_train, X_iris_test, y_iris_train, y_iris_test = train_test_split(X_iris, y_iris, test_size=0.3, stratify=y_iris, random_state=42)\n",
    "\n",
    "nb_model.fit(X_iris_train, y_iris_train)\n",
    "y_iris_pred_holdout = nb_model.predict(X_iris_test)\n",
    "matriz_iris_holdout = confusion_matrix(y_iris_test, y_iris_pred_holdout)\n",
    "accuracy_iris_holdout = accuracy_score(y_iris_test, y_iris_pred_holdout)\n",
    "\n",
    "print(\"Matriz de Confusión:\\n\", matriz_iris_holdout)\n",
    "print(\"Precisión:\", accuracy_iris_holdout)"
   ]
  },
  {
   "cell_type": "markdown",
   "id": "ebcacbbf-6922-43b0-b428-e5ee16d6fe9c",
   "metadata": {},
   "source": [
    "<h3>10-Fold Cross-Validation estratificado</h3>"
   ]
  },
  {
   "cell_type": "code",
   "execution_count": 38,
   "id": "45ecf2f8-df2c-4234-b1c1-4940cdb95cb0",
   "metadata": {},
   "outputs": [
    {
     "name": "stdout",
     "output_type": "stream",
     "text": [
      "Matriz de Confusión:\n",
      " [[50  0  0]\n",
      " [ 0 47  3]\n",
      " [ 0  4 46]]\n",
      "Precisión: 0.9533333333333334\n"
     ]
    }
   ],
   "source": [
    "y_iris_pred_10fold = cross_val_predict(nb_model, X_iris, y_iris, cv=cv)\n",
    "\n",
    "matriz_iris_10fold = confusion_matrix(y_iris, y_iris_pred_10fold)\n",
    "accuracy_iris_10fold = accuracy_score(y_iris, y_iris_pred_10fold)\n",
    "print(\"Matriz de Confusión:\\n\", matriz_iris_10fold)\n",
    "print(\"Precisión:\", accuracy_iris_10fold)"
   ]
  },
  {
   "cell_type": "markdown",
   "id": "317e74f8-8942-4baa-a8b7-23a70b42a6b9",
   "metadata": {},
   "source": [
    "<h3>Leave-One-Out</h3>"
   ]
  },
  {
   "cell_type": "code",
   "execution_count": 40,
   "id": "3824a7a7-11d4-472f-9c0f-473860ee59d6",
   "metadata": {},
   "outputs": [
    {
     "name": "stdout",
     "output_type": "stream",
     "text": [
      "Matriz de Confusión:\n",
      " [[50  0  0]\n",
      " [ 0 47  3]\n",
      " [ 0  4 46]]\n",
      "Precisión: 0.9533333333333334\n"
     ]
    }
   ],
   "source": [
    "y_iris_pred_loo = cross_val_predict(nb_model, X_iris, y_iris, cv=loo)\n",
    "\n",
    "matriz_iris_loo = confusion_matrix(y_iris, y_iris_pred_loo)\n",
    "accuracy_iris_loo = accuracy_score(y_iris, y_iris_pred_loo)\n",
    "print(\"Matriz de Confusión:\\n\", matriz_iris_loo)\n",
    "print(\"Precisión:\", accuracy_iris_loo)"
   ]
  },
  {
   "cell_type": "code",
   "execution_count": null,
   "id": "203f41b5-7c84-4f8b-9e18-4f9074f086a9",
   "metadata": {},
   "outputs": [],
   "source": []
  }
 ],
 "metadata": {
  "kernelspec": {
   "display_name": "Python 3 (ipykernel)",
   "language": "python",
   "name": "python3"
  },
  "language_info": {
   "codemirror_mode": {
    "name": "ipython",
    "version": 3
   },
   "file_extension": ".py",
   "mimetype": "text/x-python",
   "name": "python",
   "nbconvert_exporter": "python",
   "pygments_lexer": "ipython3",
   "version": "3.12.3"
  }
 },
 "nbformat": 4,
 "nbformat_minor": 5
}
